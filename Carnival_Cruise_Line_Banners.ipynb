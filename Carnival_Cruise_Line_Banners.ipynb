{
 "cells": [
  {
   "cell_type": "markdown",
   "metadata": {},
   "source": [
    "## Banners placement for Carnival Cruise Line Agency"
   ]
  },
  {
   "cell_type": "markdown",
   "metadata": {},
   "source": [
    "The cuise agency **Carnival Cruise Line** plans a promotion of it's serviceswith ad banners and as the first step the agency decides to place 20 banners across various geographic locations. The placements need to be chosen close to the agency offices also located around the globe.\n",
    "The objective is to identify the best placements fo the first  20 test promotional banners. Our task is to pick the locations in a way that it let maximize commercial effect from the ads, thus as the initial condition we need to satisfy following requirements:\n",
    "1 - ad banner placement is close to the agency office ( so that it will be more easy to arrange the placement of the banner and also control the banner efficiency)\n",
    "2 - pick the location with the maximum visiting tourists.\n",
    "For the locations search we will use the database of the largest social network, publishing all checkins in the various tourists locations - *Foursquare* ( the data is avilable here - use the checkins.dat file: (https://archive.org/details/201309_foursquare_dataset_umn))\n"
   ]
  },
  {
   "cell_type": "markdown",
   "metadata": {},
   "source": [
    "Below there are coordinates for the Carnival Cruise Line Agency offices we are going to look at (https://www.google.com/maps/d/viewer?mid=1n07TQwkq65xLiIsmQKEYravjAmguehgG&ll=35.781965009786845%2C-59.31815504999997&z=2):\n",
    "\n",
    "\n",
    "33.751277, -118.188740 (Los Angeles)\n",
    "\n",
    "25.867736, -80.324116 (Miami)\n",
    "\n",
    "51.503016, -0.075479 (London)\n",
    "\n",
    "52.378894, 4.885084 (Amsterdam)\n",
    "\n",
    "39.366487, 117.036146 (Beijing)\n",
    "\n",
    "-33.868457, 151.205134 (Sydney)"
   ]
  },
  {
   "cell_type": "markdown",
   "metadata": {},
   "source": [
    "After clusterization we may observe that some clusters contain very few objects and thus do not meet our requirement for to be well visited by the tourists  - the threashold here will be set at 15 elemets - so any cluster with the number of objects less than 15 will be excuded from consideration.\n",
    "\n",
    "Once cluster centers for the most promising location for the banner placements have been identified we can use mapcustomizer.com for visualization and additional visual control for the suggested locations for the test banners placement."
   ]
  },
  {
   "cell_type": "markdown",
   "metadata": {},
   "source": [
    "First let's read all data fist into pandas dataframe and remove lines which do ot contain latitude and longitude detail."
   ]
  },
  {
   "cell_type": "code",
   "execution_count": 72,
   "metadata": {},
   "outputs": [],
   "source": [
    "import pandas as pd\n",
    "import numpy as np\n",
    "from sklearn.cluster import MeanShift\n",
    "import warnings\n",
    "warnings.filterwarnings(\"ignore\")"
   ]
  },
  {
   "cell_type": "code",
   "execution_count": 73,
   "metadata": {},
   "outputs": [
    {
     "data": {
      "text/plain": [
       "(1021967, 7)"
      ]
     },
     "execution_count": 73,
     "metadata": {},
     "output_type": "execute_result"
    }
   ],
   "source": [
    "raw_data = pd.read_csv('checkins.csv')\n",
    "raw_data.shape"
   ]
  },
  {
   "cell_type": "code",
   "execution_count": 74,
   "metadata": {},
   "outputs": [
    {
     "data": {
      "text/html": [
       "<div>\n",
       "<style scoped>\n",
       "    .dataframe tbody tr th:only-of-type {\n",
       "        vertical-align: middle;\n",
       "    }\n",
       "\n",
       "    .dataframe tbody tr th {\n",
       "        vertical-align: top;\n",
       "    }\n",
       "\n",
       "    .dataframe thead th {\n",
       "        text-align: right;\n",
       "    }\n",
       "</style>\n",
       "<table border=\"1\" class=\"dataframe\">\n",
       "  <thead>\n",
       "    <tr style=\"text-align: right;\">\n",
       "      <th></th>\n",
       "      <th>id</th>\n",
       "      <th>user_id</th>\n",
       "      <th>venue_id</th>\n",
       "      <th>latitude</th>\n",
       "      <th>longitude</th>\n",
       "      <th>create</th>\n",
       "      <th>d_at</th>\n",
       "    </tr>\n",
       "  </thead>\n",
       "  <tbody>\n",
       "    <tr>\n",
       "      <th>0</th>\n",
       "      <td>984301</td>\n",
       "      <td>2041916</td>\n",
       "      <td>5222.0</td>\n",
       "      <td>NaN</td>\n",
       "      <td>NaN</td>\n",
       "      <td>4/21/2012</td>\n",
       "      <td>17:39:01</td>\n",
       "    </tr>\n",
       "    <tr>\n",
       "      <th>1</th>\n",
       "      <td>984222</td>\n",
       "      <td>15824</td>\n",
       "      <td>5222.0</td>\n",
       "      <td>38.895112</td>\n",
       "      <td>-77.036366</td>\n",
       "      <td>4/21/2012</td>\n",
       "      <td>17:43:47</td>\n",
       "    </tr>\n",
       "    <tr>\n",
       "      <th>2</th>\n",
       "      <td>984315</td>\n",
       "      <td>1764391</td>\n",
       "      <td>5222.0</td>\n",
       "      <td>NaN</td>\n",
       "      <td>NaN</td>\n",
       "      <td>4/21/2012</td>\n",
       "      <td>17:37:18</td>\n",
       "    </tr>\n",
       "    <tr>\n",
       "      <th>3</th>\n",
       "      <td>984234</td>\n",
       "      <td>44652</td>\n",
       "      <td>5222.0</td>\n",
       "      <td>33.800745</td>\n",
       "      <td>-84.410520</td>\n",
       "      <td>4/21/2012</td>\n",
       "      <td>17:43:43</td>\n",
       "    </tr>\n",
       "    <tr>\n",
       "      <th>4</th>\n",
       "      <td>984249</td>\n",
       "      <td>2146840</td>\n",
       "      <td>5222.0</td>\n",
       "      <td>NaN</td>\n",
       "      <td>NaN</td>\n",
       "      <td>4/21/2012</td>\n",
       "      <td>17:42:58</td>\n",
       "    </tr>\n",
       "  </tbody>\n",
       "</table>\n",
       "</div>"
      ],
      "text/plain": [
       "       id  user_id  venue_id   latitude  longitude     create      d_at\n",
       "0  984301  2041916    5222.0        NaN        NaN  4/21/2012  17:39:01\n",
       "1  984222    15824    5222.0  38.895112 -77.036366  4/21/2012  17:43:47\n",
       "2  984315  1764391    5222.0        NaN        NaN  4/21/2012  17:37:18\n",
       "3  984234    44652    5222.0  33.800745 -84.410520  4/21/2012  17:43:43\n",
       "4  984249  2146840    5222.0        NaN        NaN  4/21/2012  17:42:58"
      ]
     },
     "execution_count": 74,
     "metadata": {},
     "output_type": "execute_result"
    }
   ],
   "source": [
    "raw_data.head()"
   ]
  },
  {
   "cell_type": "code",
   "execution_count": 75,
   "metadata": {},
   "outputs": [],
   "source": [
    "data = raw_data.drop(['id','venue_id', 'user_id', 'create', 'd_at'], axis = 1)"
   ]
  },
  {
   "cell_type": "code",
   "execution_count": 76,
   "metadata": {},
   "outputs": [],
   "source": [
    "data.dropna(inplace=True)"
   ]
  },
  {
   "cell_type": "code",
   "execution_count": 77,
   "metadata": {},
   "outputs": [
    {
     "data": {
      "text/plain": [
       "latitude     False\n",
       "longitude    False\n",
       "dtype: bool"
      ]
     },
     "execution_count": 77,
     "metadata": {},
     "output_type": "execute_result"
    }
   ],
   "source": [
    "data.isnull().any()"
   ]
  },
  {
   "cell_type": "code",
   "execution_count": 78,
   "metadata": {},
   "outputs": [
    {
     "data": {
      "text/plain": [
       "(396634, 2)"
      ]
     },
     "execution_count": 78,
     "metadata": {},
     "output_type": "execute_result"
    }
   ],
   "source": [
    "data.shape"
   ]
  },
  {
   "cell_type": "markdown",
   "metadata": {},
   "source": [
    "So, now it's correct number of lines which we expected and we will use the MeachShift method here for clusters identification. The MeanShift here can be good choice as MeanShift clustering aims to discover “blobs” in a smooth density of samples.\n",
    "It is a centroid-based algorithm, which works by updating candidates for centroids to be the mean of the points within a given region. These candidates are then filtered in a post-processing stage to eliminate near-duplicates to form the final set of centroids. So in our case we will identify the centrs of potential clusters as the centers of the most visited by tourists geographic locations and later find the cluster centers which are located closer than others to the agency offices.\n",
    "\n",
    "To make sure we include certain limitations for the clusters areas the 'bandwidth' parameter will be set to 0.1, which limist the cluser formation boundaries to the equivalent of 5-10 kilometers (if we consider some medium latitudes, not close to the poles :) ). Also for to restrain ourselves from having too small and unpopular locations being identified as clusters we can set the 'min_bis_freq' parameter to 15, so not less than 15 objects will be considered as a cluster for our further analysis."
   ]
  },
  {
   "cell_type": "code",
   "execution_count": 79,
   "metadata": {},
   "outputs": [
    {
     "data": {
      "text/html": [
       "<div>\n",
       "<style scoped>\n",
       "    .dataframe tbody tr th:only-of-type {\n",
       "        vertical-align: middle;\n",
       "    }\n",
       "\n",
       "    .dataframe tbody tr th {\n",
       "        vertical-align: top;\n",
       "    }\n",
       "\n",
       "    .dataframe thead th {\n",
       "        text-align: right;\n",
       "    }\n",
       "</style>\n",
       "<table border=\"1\" class=\"dataframe\">\n",
       "  <thead>\n",
       "    <tr style=\"text-align: right;\">\n",
       "      <th></th>\n",
       "      <th>latitude</th>\n",
       "      <th>longitude</th>\n",
       "    </tr>\n",
       "  </thead>\n",
       "  <tbody>\n",
       "    <tr>\n",
       "      <th>0</th>\n",
       "      <td>33.751277</td>\n",
       "      <td>-118.188740</td>\n",
       "    </tr>\n",
       "    <tr>\n",
       "      <th>1</th>\n",
       "      <td>25.867736</td>\n",
       "      <td>-80.324116</td>\n",
       "    </tr>\n",
       "    <tr>\n",
       "      <th>2</th>\n",
       "      <td>51.503016</td>\n",
       "      <td>-0.075479</td>\n",
       "    </tr>\n",
       "    <tr>\n",
       "      <th>3</th>\n",
       "      <td>52.378894</td>\n",
       "      <td>4.885084</td>\n",
       "    </tr>\n",
       "    <tr>\n",
       "      <th>4</th>\n",
       "      <td>39.366487</td>\n",
       "      <td>117.036146</td>\n",
       "    </tr>\n",
       "  </tbody>\n",
       "</table>\n",
       "</div>"
      ],
      "text/plain": [
       "    latitude   longitude\n",
       "0  33.751277 -118.188740\n",
       "1  25.867736  -80.324116\n",
       "2  51.503016   -0.075479\n",
       "3  52.378894    4.885084\n",
       "4  39.366487  117.036146"
      ]
     },
     "execution_count": 79,
     "metadata": {},
     "output_type": "execute_result"
    }
   ],
   "source": [
    "offices = pd.read_csv('ccl_offices.csv')\n",
    "offices.drop(['City'], axis = 1, inplace = True)\n",
    "offices.head()"
   ]
  },
  {
   "cell_type": "code",
   "execution_count": 80,
   "metadata": {},
   "outputs": [
    {
     "name": "stdout",
     "output_type": "stream",
     "text": [
      "number of estimated clusters : 1170\n"
     ]
    }
   ],
   "source": [
    "ms = MeanShift(bandwidth = 0.1, bin_seeding = True, min_bin_freq = 15)\n",
    "ms.fit(data)\n",
    "labels = ms.labels_\n",
    "cluster_centers = ms.cluster_centers_\n",
    "\n",
    "labels_unique = np.unique(labels)\n",
    "n_clusters_ = len(labels_unique)\n",
    "\n",
    "print(\"number of estimated clusters : %d\" % n_clusters_)"
   ]
  },
  {
   "cell_type": "markdown",
   "metadata": {},
   "source": [
    "Now let's just find 20 locations in the most close priximity to our offices world-wide. The distance from the placemet candidate to the agency office will be the only selection criteria once the clusterization already eliminated any places with low number of tourists' visits. Also, we will identify the placement candidate which is the closest to one of our offices.\n",
    "The distances here are calculated as a simple Euclidean ditance as far as on the close ditance the Earth curvature doesn't really matter and for very large distances the calculation error will be insignifficant."
   ]
  },
  {
   "cell_type": "code",
   "execution_count": 81,
   "metadata": {},
   "outputs": [
    {
     "name": "stdout",
     "output_type": "stream",
     "text": [
      "Distance 1 : 0.003 from location at: [-33.86614607 151.20708242]\n",
      "Distance 2 : 0.01 from location at: [52.37248935  4.89226825]\n",
      "Distance 3 : 0.039 from location at: [ 25.89689645 -80.29771155]\n",
      "Distance 4 : 0.052 from location at: [51.50305542 -0.1271134 ]\n",
      "Distance 5 : 0.075 from location at: [  33.81127536 -118.14433437]\n",
      "Distance 6 : 0.136 from location at: [ 25.7870861  -80.21512757]\n",
      "Distance 7 : 0.174 from location at: [  33.87632837 -118.06740971]\n",
      "Distance 8 : 0.181 from location at: [ 26.00505198 -80.20559812]\n",
      "Distance 9 : 0.218 from location at: [  33.87201291 -118.37034494]\n",
      "Distance 10 : 0.261 from location at: [ 26.11945702 -80.39255995]\n",
      "Distance 11 : 0.299 from location at: [  33.70280018 -117.89332878]\n",
      "Distance 12 : 0.301 from location at: [  33.81172271 -117.89365104]\n",
      "Distance 13 : 0.303 from location at: [ 26.12204445 -80.15977558]\n",
      "Distance 14 : 0.316 from location at: [51.48562471 -0.39104649]\n",
      "Distance 15 : 0.323 from location at: [  34.06497839 -118.26547835]\n",
      "Distance 16 : 0.344 from location at: [ 26.20244944 -80.24415759]\n",
      "Distance 17 : 0.364 from location at: [52.08199945  5.0963915 ]\n",
      "Distance 18 : 0.373 from location at: [  34.01135551 -117.9215053 ]\n",
      "Distance 19 : 0.376 from location at: [  34.03359377 -118.43659123]\n",
      "Distance 20 : 0.383 from location at: [  34.13319903 -118.16562962]\n",
      "The closest location is at: [-33.86614607 151.20708242]\n"
     ]
    }
   ],
   "source": [
    "import math\n",
    "\n",
    "dist = {}\n",
    "\n",
    "for oix in range(len(offices.index)):\n",
    "    office_loc = offices.iloc[oix].values\n",
    "    for c in range(len(cluster_centers)):\n",
    "        distance = math.sqrt((office_loc[0] - cluster_centers[c][0])**2 + (office_loc[1] - cluster_centers[c][1])**2)\n",
    "        dist[distance] = cluster_centers[c]\n",
    "closest_20_keys = sorted(dist.keys())[:20]\n",
    "the_closest = dist[closest_20_keys[0]]\n",
    "top_20_locations = []\n",
    "for i, key in enumerate(closest_20_keys):\n",
    "   print (\"Distance \" + str(i+1) + \" : \" + str(round(key, 3)) + \" from location at: \" + str(dist[key]))\n",
    "print (\"The closest location is at: \" + str(the_closest))\n"
   ]
  }
 ],
 "metadata": {
  "kernelspec": {
   "display_name": "Python 3",
   "language": "python",
   "name": "python3"
  },
  "language_info": {
   "codemirror_mode": {
    "name": "ipython",
    "version": 3
   },
   "file_extension": ".py",
   "mimetype": "text/x-python",
   "name": "python",
   "nbconvert_exporter": "python",
   "pygments_lexer": "ipython3",
   "version": "3.6.4"
  }
 },
 "nbformat": 4,
 "nbformat_minor": 2
}
