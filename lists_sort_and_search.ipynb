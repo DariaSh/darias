{
 "cells": [
  {
   "cell_type": "markdown",
   "metadata": {},
   "source": [
    "### Lists binary sorting and searching.\n"
   ]
  },
  {
   "cell_type": "markdown",
   "metadata": {},
   "source": [
    "1. So, let's think how we can sort a list e.g. \"not descending\". (Why \"not descending\", Well...in case we have some elements with the same values, there is no exact rule for to identify their position. Thus...there we may have some parts of the list which are \"not sorted assending\" :)). First, we can check pairs of two sequential elements and find all pairs where \"next\" element is smaller than the \"first\" one. For each pair where the order is incorrect we will change the order of the lements in a pair. Obviously, after several iterations of such pair-wise checks and  order changes, we will see that all elements are finally sorted in a desirable way. This method of sorting is called a \"Bubble sorting\" method.\n",
    "Now we can produce a code. Let's define a function called BubbleSort. It should take only one argument - our list. \n",
    "1. We create an infinite while loop and within the loop we declare a variable **c** (like \"condition\"), where we will store the \"truth\" about the list being sorted. Once all elements of the list are sorted in the right order the **c** value will be changed to \"True\". To break the loop we need to check the vaue of **c** - in case it is still \"False\" - we continue, in case it's \"True\" - we break and get out of the loop cycle.\n",
    "Thus we got a loop with a post-conditioning.\n",
    "Within the loop we create a cycle for our pairs comparisons and position exchange.\n",
    "So, we iterate over n index i = [0, len(a)-1], then inside this cycle we make a conditional fork: if element with index i and element with index i+1 are not sorted properly, let's do the following: 1 - set c = \"False\" because our sorting condition is not met for this pair of elements, 2 - switch indexs for the elements in the pair. Also, we will not return the sorted list as we pass the reference to out list and not the list copy. So, the function will operate on the original list though."
   ]
  },
  {
   "cell_type": "code",
   "execution_count": 1,
   "metadata": {},
   "outputs": [],
   "source": [
    "def BubbleSort(a):\n",
    "    while True:\n",
    "        c = True\n",
    "        for i in range(0, len(a)-1):\n",
    "            if a[i+1] < a[i]:\n",
    "                c = False\n",
    "                a[i], a[i+1] = a[i+1], a[i]\n",
    "        if c:\n",
    "            break"
   ]
  },
  {
   "cell_type": "code",
   "execution_count": 2,
   "metadata": {},
   "outputs": [
    {
     "name": "stdout",
     "output_type": "stream",
     "text": [
      "[40, 14, 54, 16, 74, 71, 90, 69, 52, 12, 17, 97, 34, 61, 87, 23, 42, 19, 95, 15]\n",
      "[12, 14, 15, 16, 17, 19, 23, 34, 40, 42, 52, 54, 61, 69, 71, 74, 87, 90, 95, 97]\n"
     ]
    }
   ],
   "source": [
    "# Let's test on a random lit of 20 elements\n",
    "import random\n",
    "a_test = random.sample(range(0, 100), 20)\n",
    "print (a_test)\n",
    "BubbleSort(a_test)\n",
    "print (a_test)"
   ]
  },
  {
   "cell_type": "markdown",
   "metadata": {},
   "source": [
    "Python lists have a nice method *reverse()*, thus we can easily get the list sorted \"not assending\" from the list soted \"not descending\". "
   ]
  },
  {
   "cell_type": "code",
   "execution_count": 3,
   "metadata": {},
   "outputs": [
    {
     "name": "stdout",
     "output_type": "stream",
     "text": [
      "[97, 95, 90, 87, 74, 71, 69, 61, 54, 52, 42, 40, 34, 23, 19, 17, 16, 15, 14, 12]\n"
     ]
    }
   ],
   "source": [
    "a_test.reverse()\n",
    "print (a_test)"
   ]
  },
  {
   "cell_type": "markdown",
   "metadata": {},
   "source": [
    "Now, let's go back to the searching. The sorting we performed above was mainly meant to simplify our task of finding the element of the list. So, now the situation seems to become better for our element search task as we know: elements with higher numbers are all in one part of the list and elements with smaller numbers are in the other part of the list. This gives us an opportunity to minimize the searching effort and as an additional benefit also lower the algorithm time - e.g. not searh lineraly through the whole list, but maybe split the list into two parts and do search in one half only. So, for intance, if we check the \"top\" element in the smaller elements part and see that the element we are searching has a value higher that this one at the \"top\" of the small elements part, we can conclude that our element can be found in the other half of the list, othewise - it can be found in the \"bottom\" elements part. So, once we identified the half of the list where our element is located, we can repeat this procedure with this half of the list again ...and again, untill we get a list with one element in it and check if this one is equal to the element we are searching for. Thus the method got the name \"binary search\" as we always split our lists into two parts."
   ]
  },
  {
   "cell_type": "markdown",
   "metadata": {},
   "source": [
    "In order to implement this metod in a code, let's define a **SortedListSearch** function. That will emphasize that our function should recieve a sorted list in order to be able to produce some result. Now, our function takes two arguments: sorted list and the value of the element we are searching for. There actually two options here as in some cases we may not have the searched element in the list - we can return just the \"True\" or \"False\" in case the element was found or not, but we bettter return just the index of the element once we find it and \"-1\" if the element wasn't found. \n",
    "Let's declare two indexes b and t - they will actually indicate the indexes of the border segement of the list where we perform our search. \n",
    "At the initial iteration the search segement = whole list, so we will set b = 0 and t = len(a)-1, correspondingly.\n",
    "\n",
    "Now we create a cycle to iterate over list splits and we will do this until b != t. In the cycle, let's check the element in the middle of the [b,t] segment. It's index, should be equal to the whole part (without residual) of (b+t)/2. If the value of this element a[(b+t//2)] is less than the value of our 'x', we will continue searching our element in the part with indexes lover than (b+t)/2 and higher, otherwise: e.g. a[(b+t)//2] < x, then let's keep the top border t same, but now lower border index shold become b = (b+t)//2 + 1 - first element in the \"top\" part.\n",
    "\n",
    "At the point when b == t, let's make a final check. If our element a[b]= a[t] == x, then we return the value of the index b, otherwise, we return -1, meaning that element was not found."
   ]
  },
  {
   "cell_type": "code",
   "execution_count": 4,
   "metadata": {},
   "outputs": [],
   "source": [
    "def SortedListSearch(a, x):\n",
    "    b = 0\n",
    "    t = len(a)-1\n",
    "    while b != t:\n",
    "        if a[(b+t)//2] < x:\n",
    "            b = (b+t)//2 + 1\n",
    "        else:\n",
    "            t = (b+t)//2\n",
    "    if a[b] == x:\n",
    "        return b\n",
    "    else:\n",
    "        return -1"
   ]
  },
  {
   "cell_type": "code",
   "execution_count": 5,
   "metadata": {},
   "outputs": [
    {
     "name": "stdout",
     "output_type": "stream",
     "text": [
      "[0, 1, 2, 3, 4, 5, 6, 7, 8, 9, 10, 11, 12, 13, 14, 15, 16, 17, 18, 19]\n",
      "7\n",
      "7\n",
      "-1\n"
     ]
    }
   ],
   "source": [
    "#Let's test on a random list of 20 values after sorting\n",
    "a_test = random.sample(range(0, 20), 20)\n",
    "BubbleSort(a_test)\n",
    "print (a_test)\n",
    "element_i = SortedListSearch(a_test, x=7)\n",
    "print (element_i)\n",
    "print (a_test[element_i])\n",
    "element_i = SortedListSearch(a_test, x=33)\n",
    "print (element_i)"
   ]
  },
  {
   "cell_type": "markdown",
   "metadata": {},
   "source": [
    "Now we got two handy functions for sorting and searchig. However, once we do our sorting seems the number of iteration over the list is quite numerous. Can we maybe extract some ideas frome the binary searchnig method and also make our sorting more robust and more quick. Well, the idea is on a surface. what if we sort not through the whole list, but only within some rage? So, now we can chose one interval of indexes and set the index values to 'first' and 'last'. Also, we need to ddefine a basic element for each interval and now we can simply take a median for eacah interval here - the element in the mddle of the indexes range. Now, we can suume that there is a variable **m**, which serves a purposee of sorting all elements on the interval as \"below m\" and \"above m\". Out first and last indexes will assign to the variables b and t again. Now, moving the b boder up to the moment we uncover an element which is >= m.Then we can check that b is still lower than t, so makeing a check is b < t and is this condition is not true we will update the condition - switching b value to t and vise versa. Then we will increase the range b and t values by one, moving one to the right and the other one to the left. Then we continue repating this procedure on a new interval and do so until the b and t get crossed. The speed of the algorithm often depends on the way of how we chose the basic valu. Often the value just assigned randomly. "
   ]
  },
  {
   "cell_type": "markdown",
   "metadata": {},
   "source": [
    "Now we can define the function for our QuickSort. It will take three arguments: the list, and two indexes of the first and the last elements of the interval. Before we proceed to the actual sorting we can check the values of the indexes and the length of the interval. If last and first elements are same or last is lower than the first, the list either has one element or it is impty, so then we will not do anything and stop. befor we start the actual sorting, let's decare the variable **m**, where we are oing to store our basic value. We will assign it randomly within the given interval.  Oncce again, we set b = index of the first element and t = index of the last element.  Then we bagin a cycle for to move b  to the right , so every time our b will b increased by 1 and also we will move t to the left, decreasing it for 1 at every iteration. \n",
    "We stay within the cycle until a[t]>m. Now we can check if b <= t. If the condition is not satisfied we change placed of the indexes. And then we repeating the cycle untill we see that b and t crossed. If so, that means list is sorted completly. "
   ]
  },
  {
   "cell_type": "code",
   "execution_count": 30,
   "metadata": {},
   "outputs": [],
   "source": [
    "def QuickSort (a, first, last):\n",
    "\n",
    "    if first >= last:\n",
    "        return\n",
    "    m = a[random.randint (first, last)]\n",
    "    b, t = first, last\n",
    "\n",
    "    while b <= t:\n",
    "        while a[b] < m:\n",
    "            b = b + 1\n",
    "        while a[t] > m:\n",
    "            t = t - 1\n",
    "        if b <= t:\n",
    "            a[b], a[t] = a[t], a[b]\n",
    "            b, t = b + 1, t - 1\n",
    "    QuickSort (a, first, t)\n",
    "    QuickSort (a, b, last)"
   ]
  },
  {
   "cell_type": "code",
   "execution_count": 31,
   "metadata": {},
   "outputs": [
    {
     "name": "stdout",
     "output_type": "stream",
     "text": [
      "[10, 68, 61, 12, 76, 54, 25, 2, 1, 75, 29, 33, 9, 80, 19, 15, 35, 94, 72, 83]\n",
      "[1, 2, 9, 10, 12, 15, 19, 25, 29, 33, 35, 54, 61, 68, 72, 75, 76, 80, 83, 94]\n"
     ]
    }
   ],
   "source": [
    "#Let's test the quicksort function.\n",
    "a_test = random.sample(range(1, 100), 20)\n",
    "print(a_test)\n",
    "QuickSort(a_test, 0, len(a_test)-1)\n",
    "print (a_test)"
   ]
  },
  {
   "cell_type": "markdown",
   "metadata": {},
   "source": [
    "For to compare the speed of the BubbleSort and QuickSort, let's test on 10000 random numbers set both algorithms."
   ]
  },
  {
   "cell_type": "code",
   "execution_count": 32,
   "metadata": {},
   "outputs": [
    {
     "name": "stdout",
     "output_type": "stream",
     "text": [
      "[5177, 5363, 7894, 8870, 1682, 10690, 3715, 361, 3442, 5866]\n"
     ]
    }
   ],
   "source": [
    "a1_test = random.sample(range(1, 11000), 10000)\n",
    "print (a1_test[:10])"
   ]
  },
  {
   "cell_type": "code",
   "execution_count": 33,
   "metadata": {},
   "outputs": [
    {
     "name": "stdout",
     "output_type": "stream",
     "text": [
      "Wall time: 17.5 s\n",
      "[1, 2, 3, 4, 5, 6, 7, 8, 9, 10]\n"
     ]
    }
   ],
   "source": [
    "%time BubbleSort(a1_test)\n",
    "print (a1_test[:10])"
   ]
  },
  {
   "cell_type": "code",
   "execution_count": 34,
   "metadata": {},
   "outputs": [
    {
     "name": "stdout",
     "output_type": "stream",
     "text": [
      "[3552, 570, 1657, 10378, 8631, 9687, 1960, 7127, 2509, 10262]\n"
     ]
    }
   ],
   "source": [
    "a2_test = random.sample(range(1, 11000), 10000)\n",
    "print (a2_test[:10])"
   ]
  },
  {
   "cell_type": "code",
   "execution_count": 35,
   "metadata": {},
   "outputs": [
    {
     "name": "stdout",
     "output_type": "stream",
     "text": [
      "Wall time: 74 ms\n",
      "[1, 2, 3, 5, 6, 7, 8, 9, 10, 11]\n"
     ]
    }
   ],
   "source": [
    "%time QuickSort(a2_test, 0, len(a2_test)-1)\n",
    "print (a2_test[:10])"
   ]
  },
  {
   "cell_type": "code",
   "execution_count": null,
   "metadata": {},
   "outputs": [],
   "source": []
  }
 ],
 "metadata": {
  "kernelspec": {
   "display_name": "Python 3",
   "language": "python",
   "name": "python3"
  },
  "language_info": {
   "codemirror_mode": {
    "name": "ipython",
    "version": 3
   },
   "file_extension": ".py",
   "mimetype": "text/x-python",
   "name": "python",
   "nbconvert_exporter": "python",
   "pygments_lexer": "ipython3",
   "version": "3.6.4"
  }
 },
 "nbformat": 4,
 "nbformat_minor": 2
}
