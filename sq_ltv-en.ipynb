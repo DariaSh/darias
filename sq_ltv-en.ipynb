{
 "cells": [
  {
   "cell_type": "markdown",
   "metadata": {},
   "source": [
    "## This is a simple way for calculating and projecting LTV ( Life Time Value) for free-to-play platform/game, using a small portion of historical data. \n",
    "\n",
    "\n",
    "After reading and analyzing the data sample where we can see that our data contains: useer ID, game installation date, day of payment and amount of payment by user on a payment day.\n",
    "\n",
    "\n",
    "The objective here is to:\n",
    "\n",
    "a) Perform a little bit of the data engineering\n",
    "\n",
    "b) Identify the best function for LTV projection\n",
    "\n",
    "c) Find the polynom coefficients and the project values for LTV90 and LTV180 where LTV{N} forecast of LTV value for the day N\n",
    "\n",
    "d) Considering that our player's lifetime is 180 days, we can calculate the coefficients K1, K3, K7, K30 and K180, where K{N} is the ratio between revenue by day N and LTV180, identifyig the bending point at which cumulative revenue generation slows down and we either need to attracat more users or need to stimulate existing users to purchase more."
   ]
  },
  {
   "cell_type": "code",
   "execution_count": 1,
   "metadata": {},
   "outputs": [],
   "source": [
    "import numpy as np\n",
    "import pandas as pd\n",
    "import seaborn as sns\n",
    "from scipy import optimize\n",
    "import matplotlib.pyplot as plt\n",
    "%matplotlib inline"
   ]
  },
  {
   "cell_type": "code",
   "execution_count": 2,
   "metadata": {},
   "outputs": [],
   "source": [
    "data = pd.read_csv('sq_data.csv')"
   ]
  },
  {
   "cell_type": "code",
   "execution_count": 3,
   "metadata": {},
   "outputs": [
    {
     "name": "stdout",
     "output_type": "stream",
     "text": [
      "(10, 4)\n"
     ]
    }
   ],
   "source": [
    "print (data.shape)"
   ]
  },
  {
   "cell_type": "code",
   "execution_count": 4,
   "metadata": {},
   "outputs": [
    {
     "data": {
      "text/html": [
       "<div>\n",
       "<style scoped>\n",
       "    .dataframe tbody tr th:only-of-type {\n",
       "        vertical-align: middle;\n",
       "    }\n",
       "\n",
       "    .dataframe tbody tr th {\n",
       "        vertical-align: top;\n",
       "    }\n",
       "\n",
       "    .dataframe thead th {\n",
       "        text-align: right;\n",
       "    }\n",
       "</style>\n",
       "<table border=\"1\" class=\"dataframe\">\n",
       "  <thead>\n",
       "    <tr style=\"text-align: right;\">\n",
       "      <th></th>\n",
       "      <th>user</th>\n",
       "      <th>install_date</th>\n",
       "      <th>pay_date</th>\n",
       "      <th>sum</th>\n",
       "    </tr>\n",
       "  </thead>\n",
       "  <tbody>\n",
       "    <tr>\n",
       "      <th>0</th>\n",
       "      <td>asdre5961</td>\n",
       "      <td>1/1/2018</td>\n",
       "      <td>1/1/2018</td>\n",
       "      <td>0.99</td>\n",
       "    </tr>\n",
       "    <tr>\n",
       "      <th>1</th>\n",
       "      <td>fdsfsd1895</td>\n",
       "      <td>1/1/2018</td>\n",
       "      <td>20/01/2018</td>\n",
       "      <td>4.95</td>\n",
       "    </tr>\n",
       "    <tr>\n",
       "      <th>2</th>\n",
       "      <td>rhuyn4346</td>\n",
       "      <td>3/1/2018</td>\n",
       "      <td>5/1/2018</td>\n",
       "      <td>0.99</td>\n",
       "    </tr>\n",
       "    <tr>\n",
       "      <th>3</th>\n",
       "      <td>asdre5961</td>\n",
       "      <td>1/1/2018</td>\n",
       "      <td>3/1/2018</td>\n",
       "      <td>3.97</td>\n",
       "    </tr>\n",
       "    <tr>\n",
       "      <th>4</th>\n",
       "      <td>rhuyn4346</td>\n",
       "      <td>3/1/2018</td>\n",
       "      <td>19/01/2018</td>\n",
       "      <td>0.99</td>\n",
       "    </tr>\n",
       "  </tbody>\n",
       "</table>\n",
       "</div>"
      ],
      "text/plain": [
       "         user install_date    pay_date   sum\n",
       "0   asdre5961     1/1/2018    1/1/2018  0.99\n",
       "1  fdsfsd1895     1/1/2018  20/01/2018  4.95\n",
       "2   rhuyn4346     3/1/2018    5/1/2018  0.99\n",
       "3   asdre5961     1/1/2018    3/1/2018  3.97\n",
       "4   rhuyn4346     3/1/2018  19/01/2018  0.99"
      ]
     },
     "execution_count": 4,
     "metadata": {},
     "output_type": "execute_result"
    }
   ],
   "source": [
    "data.head()"
   ]
  },
  {
   "cell_type": "code",
   "execution_count": 5,
   "metadata": {},
   "outputs": [],
   "source": [
    "data['install_date'] = pd.to_datetime(data['install_date'],dayfirst = True)\n",
    "data['pay_date'] = pd.to_datetime(data['pay_date'], dayfirst = True)"
   ]
  },
  {
   "cell_type": "code",
   "execution_count": 6,
   "metadata": {},
   "outputs": [],
   "source": [
    "data = data.sort_values('pay_date')"
   ]
  },
  {
   "cell_type": "code",
   "execution_count": 7,
   "metadata": {},
   "outputs": [],
   "source": [
    "def get_cum_sum(date):\n",
    "    return data['sum'].where(data['pay_date']<=date).sum()\n",
    "\n",
    "data['cum_sum'] = data['pay_date'].map(lambda x: get_cum_sum(x))"
   ]
  },
  {
   "cell_type": "code",
   "execution_count": 8,
   "metadata": {},
   "outputs": [],
   "source": [
    "def get_users_utd(date):\n",
    "    return data['user'].where(data['install_date'] <=date).count()\n",
    "\n",
    "data['users_n_utd'] = data['pay_date'].map(lambda x: get_users_utd(x))"
   ]
  },
  {
   "cell_type": "code",
   "execution_count": 9,
   "metadata": {},
   "outputs": [],
   "source": [
    "data['ltv'] = data['cum_sum']/data['users_n_utd'].astype(float)"
   ]
  },
  {
   "cell_type": "code",
   "execution_count": 10,
   "metadata": {},
   "outputs": [],
   "source": [
    "data['day'] = pd.to_timedelta(data['pay_date'] - data['install_date'].min()).dt.days + 1\n",
    "data['day'] = data['day'].astype(int)"
   ]
  },
  {
   "cell_type": "code",
   "execution_count": 11,
   "metadata": {},
   "outputs": [
    {
     "data": {
      "text/html": [
       "<div>\n",
       "<style scoped>\n",
       "    .dataframe tbody tr th:only-of-type {\n",
       "        vertical-align: middle;\n",
       "    }\n",
       "\n",
       "    .dataframe tbody tr th {\n",
       "        vertical-align: top;\n",
       "    }\n",
       "\n",
       "    .dataframe thead th {\n",
       "        text-align: right;\n",
       "    }\n",
       "</style>\n",
       "<table border=\"1\" class=\"dataframe\">\n",
       "  <thead>\n",
       "    <tr style=\"text-align: right;\">\n",
       "      <th></th>\n",
       "      <th>user</th>\n",
       "      <th>install_date</th>\n",
       "      <th>pay_date</th>\n",
       "      <th>sum</th>\n",
       "      <th>cum_sum</th>\n",
       "      <th>users_n_utd</th>\n",
       "      <th>ltv</th>\n",
       "      <th>day</th>\n",
       "    </tr>\n",
       "  </thead>\n",
       "  <tbody>\n",
       "    <tr>\n",
       "      <th>0</th>\n",
       "      <td>asdre5961</td>\n",
       "      <td>2018-01-01</td>\n",
       "      <td>2018-01-01</td>\n",
       "      <td>0.99</td>\n",
       "      <td>0.99</td>\n",
       "      <td>5</td>\n",
       "      <td>0.198000</td>\n",
       "      <td>1</td>\n",
       "    </tr>\n",
       "    <tr>\n",
       "      <th>3</th>\n",
       "      <td>asdre5961</td>\n",
       "      <td>2018-01-01</td>\n",
       "      <td>2018-01-03</td>\n",
       "      <td>3.97</td>\n",
       "      <td>4.96</td>\n",
       "      <td>7</td>\n",
       "      <td>0.708571</td>\n",
       "      <td>3</td>\n",
       "    </tr>\n",
       "    <tr>\n",
       "      <th>2</th>\n",
       "      <td>rhuyn4346</td>\n",
       "      <td>2018-01-03</td>\n",
       "      <td>2018-01-05</td>\n",
       "      <td>0.99</td>\n",
       "      <td>5.95</td>\n",
       "      <td>7</td>\n",
       "      <td>0.850000</td>\n",
       "      <td>5</td>\n",
       "    </tr>\n",
       "    <tr>\n",
       "      <th>6</th>\n",
       "      <td>asdre5961</td>\n",
       "      <td>2018-01-01</td>\n",
       "      <td>2018-01-07</td>\n",
       "      <td>0.99</td>\n",
       "      <td>6.94</td>\n",
       "      <td>9</td>\n",
       "      <td>0.771111</td>\n",
       "      <td>7</td>\n",
       "    </tr>\n",
       "    <tr>\n",
       "      <th>8</th>\n",
       "      <td>fdsvf897</td>\n",
       "      <td>2018-01-10</td>\n",
       "      <td>2018-01-11</td>\n",
       "      <td>4.95</td>\n",
       "      <td>11.89</td>\n",
       "      <td>10</td>\n",
       "      <td>1.189000</td>\n",
       "      <td>11</td>\n",
       "    </tr>\n",
       "    <tr>\n",
       "      <th>5</th>\n",
       "      <td>frergr8715</td>\n",
       "      <td>2018-01-07</td>\n",
       "      <td>2018-01-12</td>\n",
       "      <td>0.99</td>\n",
       "      <td>12.88</td>\n",
       "      <td>10</td>\n",
       "      <td>1.288000</td>\n",
       "      <td>12</td>\n",
       "    </tr>\n",
       "    <tr>\n",
       "      <th>4</th>\n",
       "      <td>rhuyn4346</td>\n",
       "      <td>2018-01-03</td>\n",
       "      <td>2018-01-19</td>\n",
       "      <td>0.99</td>\n",
       "      <td>13.87</td>\n",
       "      <td>10</td>\n",
       "      <td>1.387000</td>\n",
       "      <td>19</td>\n",
       "    </tr>\n",
       "    <tr>\n",
       "      <th>1</th>\n",
       "      <td>fdsfsd1895</td>\n",
       "      <td>2018-01-01</td>\n",
       "      <td>2018-01-20</td>\n",
       "      <td>4.95</td>\n",
       "      <td>18.82</td>\n",
       "      <td>10</td>\n",
       "      <td>1.882000</td>\n",
       "      <td>20</td>\n",
       "    </tr>\n",
       "    <tr>\n",
       "      <th>9</th>\n",
       "      <td>asdre5961</td>\n",
       "      <td>2018-01-01</td>\n",
       "      <td>2018-01-30</td>\n",
       "      <td>0.99</td>\n",
       "      <td>19.81</td>\n",
       "      <td>10</td>\n",
       "      <td>1.981000</td>\n",
       "      <td>30</td>\n",
       "    </tr>\n",
       "    <tr>\n",
       "      <th>7</th>\n",
       "      <td>frergr8715</td>\n",
       "      <td>2018-01-07</td>\n",
       "      <td>2018-02-02</td>\n",
       "      <td>0.99</td>\n",
       "      <td>20.80</td>\n",
       "      <td>10</td>\n",
       "      <td>2.080000</td>\n",
       "      <td>33</td>\n",
       "    </tr>\n",
       "  </tbody>\n",
       "</table>\n",
       "</div>"
      ],
      "text/plain": [
       "         user install_date   pay_date   sum  cum_sum  users_n_utd       ltv  \\\n",
       "0   asdre5961   2018-01-01 2018-01-01  0.99     0.99            5  0.198000   \n",
       "3   asdre5961   2018-01-01 2018-01-03  3.97     4.96            7  0.708571   \n",
       "2   rhuyn4346   2018-01-03 2018-01-05  0.99     5.95            7  0.850000   \n",
       "6   asdre5961   2018-01-01 2018-01-07  0.99     6.94            9  0.771111   \n",
       "8    fdsvf897   2018-01-10 2018-01-11  4.95    11.89           10  1.189000   \n",
       "5  frergr8715   2018-01-07 2018-01-12  0.99    12.88           10  1.288000   \n",
       "4   rhuyn4346   2018-01-03 2018-01-19  0.99    13.87           10  1.387000   \n",
       "1  fdsfsd1895   2018-01-01 2018-01-20  4.95    18.82           10  1.882000   \n",
       "9   asdre5961   2018-01-01 2018-01-30  0.99    19.81           10  1.981000   \n",
       "7  frergr8715   2018-01-07 2018-02-02  0.99    20.80           10  2.080000   \n",
       "\n",
       "   day  \n",
       "0    1  \n",
       "3    3  \n",
       "2    5  \n",
       "6    7  \n",
       "8   11  \n",
       "5   12  \n",
       "4   19  \n",
       "1   20  \n",
       "9   30  \n",
       "7   33  "
      ]
     },
     "execution_count": 11,
     "metadata": {},
     "output_type": "execute_result"
    }
   ],
   "source": [
    "data.head(20)"
   ]
  },
  {
   "cell_type": "code",
   "execution_count": 12,
   "metadata": {},
   "outputs": [
    {
     "data": {
      "text/plain": [
       "<matplotlib.legend.Legend at 0x195de4084a8>"
      ]
     },
     "execution_count": 12,
     "metadata": {},
     "output_type": "execute_result"
    },
    {
     "data": {
      "image/png": "[encoded data removed]",
      "text/plain": [
       "<matplotlib.figure.Figure at 0x195de334a20>"
      ]
     },
     "metadata": {},
     "output_type": "display_data"
    }
   ],
   "source": [
    "plt.scatter(data['day'], data['ltv'])\n",
    "plt.scatter(data['users_n_utd'], data['ltv'], color='r')\n",
    "plt.scatter(data['cum_sum'], data['ltv'], color='g')\n",
    "plt.scatter(data['sum'], data['ltv'], color='b')\n",
    "plt.xlabel('Days(X1), Players(X2), Revenue(X3), Daily sales(X4)')\n",
    "plt.ylabel('LTV')\n",
    "plt.legend(['X1', 'X2', 'X3', 'X4'])"
   ]
  },
  {
   "cell_type": "code",
   "execution_count": 13,
   "metadata": {},
   "outputs": [
    {
     "data": {
      "text/plain": [
       "<seaborn.axisgrid.PairGrid at 0x195de2a5860>"
      ]
     },
     "execution_count": 13,
     "metadata": {},
     "output_type": "execute_result"
    },
    {
     "data": {
      "image/png": "[encoded data removed]",
      "text/plain": [
       "<matplotlib.figure.Figure at 0x195de2a5160>"
      ]
     },
     "metadata": {},
     "output_type": "display_data"
    }
   ],
   "source": [
    "sns.pairplot(data)"
   ]
  },
  {
   "cell_type": "code",
   "execution_count": 14,
   "metadata": {},
   "outputs": [],
   "source": [
    "ltv_data = data[['day','users_n_utd', 'cum_sum', 'ltv']]\n",
    "X = ltv_data[['day', 'users_n_utd','cum_sum']]\n",
    "y = ltv_data['ltv']"
   ]
  },
  {
   "cell_type": "markdown",
   "metadata": {},
   "source": [
    "### From the calculation and data plots above we can see, that LTV in our case simply depends on two variables - cumulative sales and number of users - all that by days. \n",
    "\n",
    "So, I think there are two approaches one can assume:\n",
    "##### Approach 1:\n",
    "LTV by day has somewhat like a log-alike shape and we can predict it via optimizing the fit of the LTV value to the log-like function curve. This can be done with 2 assumptions: number of useers and cumulative sales are reaching saturation, which is somewhat true for the users once we look at the users over days plot and not so evident for the dily and thus cumulative sales. However, we can assume that the normal behaviour of the user on the platform shows that after certain amount of days user does not buy anything. Then the implementation one comes here for the **LTV prediction with optimize.curve_fit**\n"
   ]
  },
  {
   "cell_type": "code",
   "execution_count": 15,
   "metadata": {},
   "outputs": [
    {
     "data": {
      "text/plain": [
       "Text(0,0.5,'LTV')"
      ]
     },
     "execution_count": 15,
     "metadata": {},
     "output_type": "execute_result"
    },
    {
     "data": {
      "image/png": "[encoded data removed]",
      "text/plain": [
       "<matplotlib.figure.Figure at 0x195df126e48>"
      ]
     },
     "metadata": {},
     "output_type": "display_data"
    }
   ],
   "source": [
    "plt.scatter(data['day'], data['ltv'])\n",
    "plt.xlabel('Days')\n",
    "plt.ylabel('LTV')"
   ]
  },
  {
   "cell_type": "code",
   "execution_count": 16,
   "metadata": {},
   "outputs": [
    {
     "name": "stdout",
     "output_type": "stream",
     "text": [
      "[0.03441533 0.53589823]\n",
      "LTV by day 90: 2.45\n",
      "LTV by day 180: 2.82\n"
     ]
    }
   ],
   "source": [
    "# here is simple way for projectting LTV with the fit function for JUST LTV wishout really thinking what happening to the users and sales\n",
    "\n",
    "X_l = X['day'].values \n",
    "Y_l = y.values\n",
    "\n",
    "coefs_l, cov = optimize.curve_fit(lambda t,a,b: a+b*np.log(t),  X_l,  Y_l)\n",
    "\n",
    "print (coefs_l)\n",
    "\n",
    "def ltv_func(param):\n",
    "    result = coefs_l[0] + coefs_l[1]*np.log(param)\n",
    "    return result\n",
    "    \n",
    "\n",
    "ltv_90_180 = ltv_func([90., 180.])\n",
    "ltv90 = round(ltv_90_180[0],2)\n",
    "ltv180 = round(ltv_90_180[1],2)\n",
    "\n",
    "print (\"LTV by day 90: \" + str(ltv90))\n",
    "print (\"LTV by day 180: \" + str(ltv180))\n"
   ]
  },
  {
   "cell_type": "code",
   "execution_count": 17,
   "metadata": {},
   "outputs": [
    {
     "data": {
      "text/plain": [
       "<matplotlib.legend.Legend at 0x195df709f98>"
      ]
     },
     "execution_count": 17,
     "metadata": {},
     "output_type": "execute_result"
    },
    {
     "data": {
      "image/png": "[encoded data removed]",
      "text/plain": [
       "<matplotlib.figure.Figure at 0x195de86f3c8>"
      ]
     },
     "metadata": {},
     "output_type": "display_data"
    }
   ],
   "source": [
    "days = np.hstack([X_l, [90, 180]])\n",
    "plt.scatter(X_l,y.values)\n",
    "plt.plot(days,ltv_func(days.reshape(-1, 1)))\n",
    "plt.xlabel('Days')\n",
    "plt.ylabel('LTV')\n",
    "plt.legend(['LTV forecast', 'LTV'])"
   ]
  },
  {
   "cell_type": "code",
   "execution_count": 18,
   "metadata": {},
   "outputs": [
    {
     "name": "stdout",
     "output_type": "stream",
     "text": [
      "K1: 2.85\n",
      "K3: 0.57\n",
      "K7: 0.41\n",
      "K30: 0.14\n"
     ]
    }
   ],
   "source": [
    "k_days = [1, 3, 7, 30]\n",
    "ks= []\n",
    "for k in k_days:\n",
    "    k_revenue = ltv_data['cum_sum'].loc[ltv_data['day'] == k].values[0] \n",
    "    coeff = ltv180/k_revenue\n",
    "    ks.append(coeff)\n",
    "    print (\"K\" + str(k) + \": \" + str(round(coeff, 2)))\n",
    "k180 = ltv180/(ltv180 * ltv_data['users_n_utd'].max())"
   ]
  },
  {
   "cell_type": "code",
   "execution_count": 19,
   "metadata": {},
   "outputs": [
    {
     "data": {
      "text/plain": [
       "Text(0,0.5,'KN')"
      ]
     },
     "execution_count": 19,
     "metadata": {},
     "output_type": "execute_result"
    },
    {
     "data": {
      "image/png": "[encoded data removed]",
      "text/plain": [
       "<matplotlib.figure.Figure at 0x195df7329b0>"
      ]
     },
     "metadata": {},
     "output_type": "display_data"
    }
   ],
   "source": [
    "k_days.append(180)\n",
    "ks.append(k180)\n",
    "plt.plot(k_days, ks)\n",
    "plt.xlabel('Days')\n",
    "plt.ylabel('KN')"
   ]
  },
  {
   "cell_type": "markdown",
   "metadata": {},
   "source": [
    "##### Approach 2\n",
    "Alternative approach is to assume that we can **project separately the dynamics for users acquisition (installations) and also, the sales to each acquired user**. As the first assumption here we can think that out sales to each user stay more or less uniformly distributed along the user's lifetime. Maybe it's not quite typical for tha game-platform users, but still possible as we can observe from the day by day sales plots and the cumulative sales plot over the first 30 days.  Also, independent parameeters modeling can let us incorporate different assumtions about sales dynamics and users's aquisition dynamics as well as build forecasts for the different scenarios."
   ]
  },
  {
   "cell_type": "code",
   "execution_count": 20,
   "metadata": {},
   "outputs": [
    {
     "data": {
      "text/plain": [
       "<matplotlib.legend.Legend at 0x195df7e70b8>"
      ]
     },
     "execution_count": 20,
     "metadata": {},
     "output_type": "execute_result"
    },
    {
     "data": {
      "image/png": "[encoded data removed]",
      "text/plain": [
       "<matplotlib.figure.Figure at 0x195df75ec50>"
      ]
     },
     "metadata": {},
     "output_type": "display_data"
    }
   ],
   "source": [
    "plt.scatter(X['day'].values,y)\n",
    "plt.scatter(X['users_n_utd'].values,y, color = 'r')\n",
    "plt.scatter(X['cum_sum'].values,y, color = 'g')\n",
    "plt.xlabel('Days, Players, Revenue')\n",
    "plt.ylabel('LTV')\n",
    "plt.legend(['X1', 'X2', 'X3'])"
   ]
  },
  {
   "cell_type": "markdown",
   "metadata": {},
   "source": [
    "Let's start with the users first. We see that by the end of the month we have reached saturation, but wee also can consider that we can fit the user's over day curve with log-like function and thus also tend to rach saturation."
   ]
  },
  {
   "cell_type": "code",
   "execution_count": 21,
   "metadata": {},
   "outputs": [
    {
     "data": {
      "text/plain": [
       "Text(0,0.5,'Players')"
      ]
     },
     "execution_count": 21,
     "metadata": {},
     "output_type": "execute_result"
    },
    {
     "data": {
      "image/png": "[encoded data removed]",
      "text/plain": [
       "<matplotlib.figure.Figure at 0x195df495048>"
      ]
     },
     "metadata": {},
     "output_type": "display_data"
    }
   ],
   "source": [
    "plt.scatter(X['day'].values,X['users_n_utd'].values)\n",
    "plt.xlabel('Days')\n",
    "plt.ylabel('Players')"
   ]
  },
  {
   "cell_type": "code",
   "execution_count": 22,
   "metadata": {},
   "outputs": [
    {
     "name": "stdout",
     "output_type": "stream",
     "text": [
      "[5.35053276 1.54168625]\n"
     ]
    }
   ],
   "source": [
    "X_u = X['day'].values \n",
    "Y_u = X['users_n_utd'].values\n",
    "\n",
    "coefs_u, cov = optimize.curve_fit(lambda t,a,b: a+b*np.log(t),  X_u,  Y_u)\n",
    "\n",
    "print (coefs_u)"
   ]
  },
  {
   "cell_type": "code",
   "execution_count": 23,
   "metadata": {},
   "outputs": [
    {
     "name": "stdout",
     "output_type": "stream",
     "text": [
      "Users by day 90: 12\n",
      "Users by day 180: 13\n"
     ]
    }
   ],
   "source": [
    "def players_func(param):\n",
    "    result = coefs_u[0] + coefs_u[1]*np.log(param)\n",
    "    return result\n",
    "    \n",
    "\n",
    "users_90_180 = players_func([90., 180.])\n",
    "u90 = int(round(users_90_180[0],0))\n",
    "u180 = int(round(users_90_180[1],0))\n",
    "\n",
    "print (\"Users by day 90: \" + str(u90))\n",
    "print (\"Users by day 180: \" + str(u180))"
   ]
  },
  {
   "cell_type": "code",
   "execution_count": 24,
   "metadata": {},
   "outputs": [
    {
     "data": {
      "text/plain": [
       "<matplotlib.legend.Legend at 0x195df88f6a0>"
      ]
     },
     "execution_count": 24,
     "metadata": {},
     "output_type": "execute_result"
    },
    {
     "data": {
      "image/png": "[encoded data removed]",
      "text/plain": [
       "<matplotlib.figure.Figure at 0x195df87ada0>"
      ]
     },
     "metadata": {},
     "output_type": "display_data"
    }
   ],
   "source": [
    "days = np.hstack([X['day'].values, [90, 180]])\n",
    "plt.scatter(X['day'].values,X['users_n_utd'].values)\n",
    "plt.plot(days,players_func(days.reshape(-1, 1)))\n",
    "plt.xlabel('Days')\n",
    "plt.ylabel('Players')\n",
    "plt.legend(['Players forecast', 'Players'])"
   ]
  },
  {
   "cell_type": "markdown",
   "metadata": {},
   "source": [
    "Now when we look at the sales dynamics, we can observe that there is no really any indication that users's stop making purchases. "
   ]
  },
  {
   "cell_type": "code",
   "execution_count": 25,
   "metadata": {},
   "outputs": [
    {
     "name": "stdout",
     "output_type": "stream",
     "text": [
      "[3.41873346 0.58668557]\n"
     ]
    }
   ],
   "source": [
    "X_r = X['day'].values \n",
    "Y_r = X['cum_sum'].values\n",
    "\n",
    "coefs_r, cov = optimize.curve_fit(lambda t,a,b: a+b*t,  X_r,  Y_r)\n",
    "\n",
    "print (coefs_r)"
   ]
  },
  {
   "cell_type": "code",
   "execution_count": 26,
   "metadata": {},
   "outputs": [],
   "source": [
    "def revenue_func(params):\n",
    "    result = coefs_r[0] + coefs_r[1]*np.array(params)\n",
    "    return result\n",
    "\n",
    "revenue_90_180 = revenue_func([90., 180.])\n",
    "r90 = round(revenue_90_180[0],2)\n",
    "r180 = round(revenue_90_180[1],2)"
   ]
  },
  {
   "cell_type": "code",
   "execution_count": 27,
   "metadata": {},
   "outputs": [
    {
     "data": {
      "text/plain": [
       "<matplotlib.legend.Legend at 0x195df8fe390>"
      ]
     },
     "execution_count": 27,
     "metadata": {},
     "output_type": "execute_result"
    },
    {
     "data": {
      "image/png": "[encoded data removed]",
      "text/plain": [
       "<matplotlib.figure.Figure at 0x195df8bfb38>"
      ]
     },
     "metadata": {},
     "output_type": "display_data"
    }
   ],
   "source": [
    "plt.scatter(X['day'].values,X['cum_sum'].values)\n",
    "plt.plot(days,revenue_func(days.reshape(-1, 1)))\n",
    "plt.xlabel('Days')\n",
    "plt.ylabel('Revenue UTD')\n",
    "plt.legend(['Revenue forcast', 'Revenue'])"
   ]
  },
  {
   "cell_type": "code",
   "execution_count": 28,
   "metadata": {},
   "outputs": [],
   "source": [
    "def revenue_func(params):\n",
    "    result = coefs_r[0] + coefs_r[1]*np.array(params)\n",
    "    return result\n",
    "\n",
    "revenue_90_180 = revenue_func([90., 180.])\n",
    "r90 = round(revenue_90_180[0],2)\n",
    "r180 = round(revenue_90_180[1],2)"
   ]
  },
  {
   "cell_type": "markdown",
   "metadata": {},
   "source": [
    "Now the projection for LTV at day 90 and day 180 can be estimated as following"
   ]
  },
  {
   "cell_type": "code",
   "execution_count": 29,
   "metadata": {},
   "outputs": [
    {
     "name": "stdout",
     "output_type": "stream",
     "text": [
      "LTV by day 90: 4.68\n",
      "LTV by day 180: 8.39\n"
     ]
    }
   ],
   "source": [
    "ltv90 = round(r90/u90, 2)\n",
    "ltv180 = round(r180/u180, 2)\n",
    "\n",
    "print (\"LTV by day 90: \" + str(ltv90))\n",
    "print (\"LTV by day 180: \" + str(ltv180))"
   ]
  },
  {
   "cell_type": "code",
   "execution_count": 30,
   "metadata": {},
   "outputs": [
    {
     "data": {
      "text/plain": [
       "Text(0,0.5,'LTV')"
      ]
     },
     "execution_count": 30,
     "metadata": {},
     "output_type": "execute_result"
    },
    {
     "data": {
      "image/png": "[encoded data removed]",
      "text/plain": [
       "<matplotlib.figure.Figure at 0x195df8a9780>"
      ]
     },
     "metadata": {},
     "output_type": "display_data"
    }
   ],
   "source": [
    "plt.scatter(X['day'].values,y)\n",
    "ltv_p = np.hstack([y, [ltv90, ltv180]]) \n",
    "plt.plot(days, ltv_p)\n",
    "plt.xlabel('Days')\n",
    "plt.ylabel('LTV')"
   ]
  },
  {
   "cell_type": "code",
   "execution_count": 31,
   "metadata": {},
   "outputs": [
    {
     "name": "stdout",
     "output_type": "stream",
     "text": [
      "K1: 8.47\n",
      "K3: 1.69\n",
      "K7: 1.21\n",
      "K30: 0.42\n",
      "K180: 0.08\n"
     ]
    }
   ],
   "source": [
    "k_days = [1, 3, 7, 30]\n",
    "k180 = round(ltv180/(ltv180 * u180), 2)\n",
    "ks= []\n",
    "for k in k_days:\n",
    "    day_ltv = ltv_data['ltv'].loc[ltv_data['day'] == k].values[0]\n",
    "    day_u = ltv_data['users_n_utd'].loc[ltv_data['day'] == k].values[0]\n",
    "    K_revenue = (day_ltv*day_u)\n",
    "    coeff = ltv180/K_revenue\n",
    "    ks.append(coeff)\n",
    "    print (\"K\" + str(k) + \": \" + str(round(coeff, 2)))\n",
    "print (\"K180: \" + str(k180)) \n"
   ]
  },
  {
   "cell_type": "code",
   "execution_count": 32,
   "metadata": {},
   "outputs": [
    {
     "data": {
      "text/plain": [
       "[<matplotlib.lines.Line2D at 0x195df9ce5f8>]"
      ]
     },
     "execution_count": 32,
     "metadata": {},
     "output_type": "execute_result"
    },
    {
     "data": {
      "image/png": "[encoded data removed]",
      "text/plain": [
       "<matplotlib.figure.Figure at 0x195df992c18>"
      ]
     },
     "metadata": {},
     "output_type": "display_data"
    }
   ],
   "source": [
    "k_days.append(180)\n",
    "ks.append(k180)\n",
    "plt.plot(k_days, ks)"
   ]
  },
  {
   "cell_type": "markdown",
   "metadata": {},
   "source": [
    "Also, using same approach as above we can try to model the saturation for revenue, but still project higher dinamics for the users' acquisition. Or, some saturation for both parameters, etc....thus building more optimistic or more pessimistic scenarios."
   ]
  }
 ],
 "metadata": {
  "kernelspec": {
   "display_name": "Python 3",
   "language": "python",
   "name": "python3"
  },
  "language_info": {
   "codemirror_mode": {
    "name": "ipython",
    "version": 3
   },
   "file_extension": ".py",
   "mimetype": "text/x-python",
   "name": "python",
   "nbconvert_exporter": "python",
   "pygments_lexer": "ipython3",
   "version": "3.6.4"
  }
 },
 "nbformat": 4,
 "nbformat_minor": 2
}
