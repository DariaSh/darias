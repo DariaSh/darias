{
 "cells": [
  {
   "cell_type": "markdown",
   "metadata": {},
   "source": [
    "## This is a simple way for calculating and projecting LTV ( Life Time Value) for free-to-play platform/game.\n",
    "\n",
    "1. We should read and analyze data sample where we can aquire the following data: useer ID, game installation date, day of payment and ampunt of payment for user on the payment day.\n",
    "2. We need to:\n",
    "a)Perform a little data ebgineering\n",
    "b) Identify the best function for LTV projection\n",
    "c) Find the polynom coefficient and project values for LTV90 and LTV180 where LTV{N} forecast of LTV value for the day N\n",
    "d) COnsidering that out player life time is 180 days, we need to calculate the coefficients K1, K3, K7, K30 and K180, where K{N} is the ratio between revenue by day N and LTV180.\n"
   ]
  },
  {
   "cell_type": "code",
   "execution_count": 6,
   "metadata": {},
   "outputs": [],
   "source": [
    "import numpy as np\n",
    "import pandas as pd\n",
    "import seaborn as sns\n",
    "from scipy import optimize\n",
    "import matplotlib.pyplot as plt\n",
    "%matplotlib inline"
   ]
  },
  {
   "cell_type": "code",
   "execution_count": 7,
   "metadata": {},
   "outputs": [],
   "source": [
    "data = pd.read_csv('sq_data.csv')"
   ]
  },
  {
   "cell_type": "code",
   "execution_count": 8,
   "metadata": {},
   "outputs": [
    {
     "name": "stdout",
     "output_type": "stream",
     "text": [
      "(10, 4)\n"
     ]
    }
   ],
   "source": [
    "print (data.shape)"
   ]
  },
  {
   "cell_type": "code",
   "execution_count": 9,
   "metadata": {},
   "outputs": [
    {
     "data": {
      "text/html": [
       "<div>\n",
       "<style scoped>\n",
       "    .dataframe tbody tr th:only-of-type {\n",
       "        vertical-align: middle;\n",
       "    }\n",
       "\n",
       "    .dataframe tbody tr th {\n",
       "        vertical-align: top;\n",
       "    }\n",
       "\n",
       "    .dataframe thead th {\n",
       "        text-align: right;\n",
       "    }\n",
       "</style>\n",
       "<table border=\"1\" class=\"dataframe\">\n",
       "  <thead>\n",
       "    <tr style=\"text-align: right;\">\n",
       "      <th></th>\n",
       "      <th>user</th>\n",
       "      <th>install_date</th>\n",
       "      <th>pay_date</th>\n",
       "      <th>sum</th>\n",
       "    </tr>\n",
       "  </thead>\n",
       "  <tbody>\n",
       "    <tr>\n",
       "      <th>0</th>\n",
       "      <td>asdre5961</td>\n",
       "      <td>1/1/2018</td>\n",
       "      <td>1/1/2018</td>\n",
       "      <td>0.99</td>\n",
       "    </tr>\n",
       "    <tr>\n",
       "      <th>1</th>\n",
       "      <td>fdsfsd1895</td>\n",
       "      <td>1/1/2018</td>\n",
       "      <td>20/01/2018</td>\n",
       "      <td>4.95</td>\n",
       "    </tr>\n",
       "    <tr>\n",
       "      <th>2</th>\n",
       "      <td>rhuyn4346</td>\n",
       "      <td>3/1/2018</td>\n",
       "      <td>5/1/2018</td>\n",
       "      <td>0.99</td>\n",
       "    </tr>\n",
       "    <tr>\n",
       "      <th>3</th>\n",
       "      <td>asdre5961</td>\n",
       "      <td>1/1/2018</td>\n",
       "      <td>3/1/2018</td>\n",
       "      <td>3.97</td>\n",
       "    </tr>\n",
       "    <tr>\n",
       "      <th>4</th>\n",
       "      <td>rhuyn4346</td>\n",
       "      <td>3/1/2018</td>\n",
       "      <td>19/01/2018</td>\n",
       "      <td>0.99</td>\n",
       "    </tr>\n",
       "  </tbody>\n",
       "</table>\n",
       "</div>"
      ],
      "text/plain": [
       "         user install_date    pay_date   sum\n",
       "0   asdre5961     1/1/2018    1/1/2018  0.99\n",
       "1  fdsfsd1895     1/1/2018  20/01/2018  4.95\n",
       "2   rhuyn4346     3/1/2018    5/1/2018  0.99\n",
       "3   asdre5961     1/1/2018    3/1/2018  3.97\n",
       "4   rhuyn4346     3/1/2018  19/01/2018  0.99"
      ]
     },
     "execution_count": 9,
     "metadata": {},
     "output_type": "execute_result"
    }
   ],
   "source": [
    "data.head()"
   ]
  },
  {
   "cell_type": "code",
   "execution_count": 10,
   "metadata": {},
   "outputs": [],
   "source": [
    "data['install_date'] = pd.to_datetime(data['install_date'],dayfirst = True)\n",
    "data['pay_date'] = pd.to_datetime(data['pay_date'], dayfirst = True)"
   ]
  },
  {
   "cell_type": "code",
   "execution_count": 11,
   "metadata": {},
   "outputs": [],
   "source": [
    "data = data.sort_values('pay_date')"
   ]
  },
  {
   "cell_type": "code",
   "execution_count": 12,
   "metadata": {},
   "outputs": [],
   "source": [
    "def get_cum_sum(date):\n",
    "    return data['sum'].where(data['pay_date']<=date).sum()\n",
    "\n",
    "data['cum_sum'] = data['pay_date'].map(lambda x: get_cum_sum(x))"
   ]
  },
  {
   "cell_type": "code",
   "execution_count": 13,
   "metadata": {},
   "outputs": [],
   "source": [
    "def get_users_utd(date):\n",
    "    return data['user'].where(data['install_date'] <=date).count()\n",
    "\n",
    "data['users_n_utd'] = data['pay_date'].map(lambda x: get_users_utd(x))"
   ]
  },
  {
   "cell_type": "code",
   "execution_count": 14,
   "metadata": {},
   "outputs": [],
   "source": [
    "data['ltv'] = data['cum_sum']/data['users_n_utd'].astype(float)"
   ]
  },
  {
   "cell_type": "code",
   "execution_count": 15,
   "metadata": {},
   "outputs": [],
   "source": [
    "data['day'] = pd.to_timedelta(data['pay_date'] - data['install_date'].min()).dt.days + 1\n",
    "data['day'] = data['day'].astype(int)"
   ]
  },
  {
   "cell_type": "code",
   "execution_count": 16,
   "metadata": {},
   "outputs": [
    {
     "data": {
      "text/html": [
       "<div>\n",
       "<style scoped>\n",
       "    .dataframe tbody tr th:only-of-type {\n",
       "        vertical-align: middle;\n",
       "    }\n",
       "\n",
       "    .dataframe tbody tr th {\n",
       "        vertical-align: top;\n",
       "    }\n",
       "\n",
       "    .dataframe thead th {\n",
       "        text-align: right;\n",
       "    }\n",
       "</style>\n",
       "<table border=\"1\" class=\"dataframe\">\n",
       "  <thead>\n",
       "    <tr style=\"text-align: right;\">\n",
       "      <th></th>\n",
       "      <th>user</th>\n",
       "      <th>install_date</th>\n",
       "      <th>pay_date</th>\n",
       "      <th>sum</th>\n",
       "      <th>cum_sum</th>\n",
       "      <th>users_n_utd</th>\n",
       "      <th>ltv</th>\n",
       "      <th>day</th>\n",
       "    </tr>\n",
       "  </thead>\n",
       "  <tbody>\n",
       "    <tr>\n",
       "      <th>0</th>\n",
       "      <td>asdre5961</td>\n",
       "      <td>2018-01-01</td>\n",
       "      <td>2018-01-01</td>\n",
       "      <td>0.99</td>\n",
       "      <td>0.99</td>\n",
       "      <td>5</td>\n",
       "      <td>0.198000</td>\n",
       "      <td>1</td>\n",
       "    </tr>\n",
       "    <tr>\n",
       "      <th>3</th>\n",
       "      <td>asdre5961</td>\n",
       "      <td>2018-01-01</td>\n",
       "      <td>2018-01-03</td>\n",
       "      <td>3.97</td>\n",
       "      <td>4.96</td>\n",
       "      <td>7</td>\n",
       "      <td>0.708571</td>\n",
       "      <td>3</td>\n",
       "    </tr>\n",
       "    <tr>\n",
       "      <th>2</th>\n",
       "      <td>rhuyn4346</td>\n",
       "      <td>2018-01-03</td>\n",
       "      <td>2018-01-05</td>\n",
       "      <td>0.99</td>\n",
       "      <td>5.95</td>\n",
       "      <td>7</td>\n",
       "      <td>0.850000</td>\n",
       "      <td>5</td>\n",
       "    </tr>\n",
       "    <tr>\n",
       "      <th>6</th>\n",
       "      <td>asdre5961</td>\n",
       "      <td>2018-01-01</td>\n",
       "      <td>2018-01-07</td>\n",
       "      <td>0.99</td>\n",
       "      <td>6.94</td>\n",
       "      <td>9</td>\n",
       "      <td>0.771111</td>\n",
       "      <td>7</td>\n",
       "    </tr>\n",
       "    <tr>\n",
       "      <th>8</th>\n",
       "      <td>fdsvf897</td>\n",
       "      <td>2018-01-10</td>\n",
       "      <td>2018-01-11</td>\n",
       "      <td>4.95</td>\n",
       "      <td>11.89</td>\n",
       "      <td>10</td>\n",
       "      <td>1.189000</td>\n",
       "      <td>11</td>\n",
       "    </tr>\n",
       "    <tr>\n",
       "      <th>5</th>\n",
       "      <td>frergr8715</td>\n",
       "      <td>2018-01-07</td>\n",
       "      <td>2018-01-12</td>\n",
       "      <td>0.99</td>\n",
       "      <td>12.88</td>\n",
       "      <td>10</td>\n",
       "      <td>1.288000</td>\n",
       "      <td>12</td>\n",
       "    </tr>\n",
       "    <tr>\n",
       "      <th>4</th>\n",
       "      <td>rhuyn4346</td>\n",
       "      <td>2018-01-03</td>\n",
       "      <td>2018-01-19</td>\n",
       "      <td>0.99</td>\n",
       "      <td>13.87</td>\n",
       "      <td>10</td>\n",
       "      <td>1.387000</td>\n",
       "      <td>19</td>\n",
       "    </tr>\n",
       "    <tr>\n",
       "      <th>1</th>\n",
       "      <td>fdsfsd1895</td>\n",
       "      <td>2018-01-01</td>\n",
       "      <td>2018-01-20</td>\n",
       "      <td>4.95</td>\n",
       "      <td>18.82</td>\n",
       "      <td>10</td>\n",
       "      <td>1.882000</td>\n",
       "      <td>20</td>\n",
       "    </tr>\n",
       "    <tr>\n",
       "      <th>9</th>\n",
       "      <td>asdre5961</td>\n",
       "      <td>2018-01-01</td>\n",
       "      <td>2018-01-30</td>\n",
       "      <td>0.99</td>\n",
       "      <td>19.81</td>\n",
       "      <td>10</td>\n",
       "      <td>1.981000</td>\n",
       "      <td>30</td>\n",
       "    </tr>\n",
       "    <tr>\n",
       "      <th>7</th>\n",
       "      <td>frergr8715</td>\n",
       "      <td>2018-01-07</td>\n",
       "      <td>2018-02-02</td>\n",
       "      <td>0.99</td>\n",
       "      <td>20.80</td>\n",
       "      <td>10</td>\n",
       "      <td>2.080000</td>\n",
       "      <td>33</td>\n",
       "    </tr>\n",
       "  </tbody>\n",
       "</table>\n",
       "</div>"
      ],
      "text/plain": [
       "         user install_date   pay_date   sum  cum_sum  users_n_utd       ltv  \\\n",
       "0   asdre5961   2018-01-01 2018-01-01  0.99     0.99            5  0.198000   \n",
       "3   asdre5961   2018-01-01 2018-01-03  3.97     4.96            7  0.708571   \n",
       "2   rhuyn4346   2018-01-03 2018-01-05  0.99     5.95            7  0.850000   \n",
       "6   asdre5961   2018-01-01 2018-01-07  0.99     6.94            9  0.771111   \n",
       "8    fdsvf897   2018-01-10 2018-01-11  4.95    11.89           10  1.189000   \n",
       "5  frergr8715   2018-01-07 2018-01-12  0.99    12.88           10  1.288000   \n",
       "4   rhuyn4346   2018-01-03 2018-01-19  0.99    13.87           10  1.387000   \n",
       "1  fdsfsd1895   2018-01-01 2018-01-20  4.95    18.82           10  1.882000   \n",
       "9   asdre5961   2018-01-01 2018-01-30  0.99    19.81           10  1.981000   \n",
       "7  frergr8715   2018-01-07 2018-02-02  0.99    20.80           10  2.080000   \n",
       "\n",
       "   day  \n",
       "0    1  \n",
       "3    3  \n",
       "2    5  \n",
       "6    7  \n",
       "8   11  \n",
       "5   12  \n",
       "4   19  \n",
       "1   20  \n",
       "9   30  \n",
       "7   33  "
      ]
     },
     "execution_count": 16,
     "metadata": {},
     "output_type": "execute_result"
    }
   ],
   "source": [
    "data.head(20)"
   ]
  },
  {
   "cell_type": "code",
   "execution_count": 22,
   "metadata": {},
   "outputs": [
    {
     "data": {
      "text/plain": [
       "<matplotlib.legend.Legend at 0x1a1ca351358>"
      ]
     },
     "execution_count": 22,
     "metadata": {},
     "output_type": "execute_result"
    },
    {
     "data": {
      "image/png": "[encoded data removed]",
      "text/plain": [
       "<matplotlib.figure.Figure at 0x1a1ca2be7f0>"
      ]
     },
     "metadata": {},
     "output_type": "display_data"
    }
   ],
   "source": [
    "plt.scatter(data['day'], data['ltv'])\n",
    "plt.scatter(data['users_n_utd'], data['ltv'], color='r')\n",
    "plt.xlabel('Days (X1), Players(X2)')\n",
    "plt.ylabel('LTV')\n",
    "plt.legend(['X1', 'X2'])"
   ]
  },
  {
   "cell_type": "code",
   "execution_count": 23,
   "metadata": {},
   "outputs": [],
   "source": [
    "ltv_data = data[['day','users_n_utd', 'ltv']]\n",
    "X = ltv_data[['day', 'users_n_utd']]\n",
    "y = ltv_data['ltv']"
   ]
  },
  {
   "cell_type": "code",
   "execution_count": 24,
   "metadata": {},
   "outputs": [
    {
     "name": "stdout",
     "output_type": "stream",
     "text": [
      "0.02063250293864264\n"
     ]
    }
   ],
   "source": [
    "from sklearn import linear_model\n",
    "from sklearn import metrics\n",
    "\n",
    "predictor = linear_model.LinearRegression()\n",
    "predictor.fit(X, y)\n",
    "y_p = predictor.predict(X)\n",
    "\n",
    "mse = metrics.mean_squared_error(y,y_p)\n",
    "print (mse)"
   ]
  },
  {
   "cell_type": "code",
   "execution_count": 25,
   "metadata": {},
   "outputs": [
    {
     "data": {
      "text/plain": [
       "<matplotlib.legend.Legend at 0x1a1ca3c7e10>"
      ]
     },
     "execution_count": 25,
     "metadata": {},
     "output_type": "execute_result"
    },
    {
     "data": {
      "image/png": "[encoded data removed]",
      "text/plain": [
       "<matplotlib.figure.Figure at 0x1a1c99e2fd0>"
      ]
     },
     "metadata": {},
     "output_type": "display_data"
    }
   ],
   "source": [
    "plt.scatter(X['day'].values,y)\n",
    "plt.scatter(X['users_n_utd'].values,y, color = 'r')\n",
    "plt.plot(X['day'].values, y_p)\n",
    "plt.plot(X['users_n_utd'].values, y_p)\n",
    "plt.xlabel('Days, Players')\n",
    "plt.ylabel('LTV')\n",
    "plt.legend(['X1', 'X2'])"
   ]
  },
  {
   "cell_type": "code",
   "execution_count": 16,
   "metadata": {},
   "outputs": [
    {
     "data": {
      "text/plain": [
       "array([0.04107311, 0.09776538])"
      ]
     },
     "execution_count": 16,
     "metadata": {},
     "output_type": "execute_result"
    }
   ],
   "source": [
    "predictor.coef_"
   ]
  },
  {
   "cell_type": "code",
   "execution_count": 17,
   "metadata": {},
   "outputs": [
    {
     "data": {
      "text/plain": [
       "-0.20599793299793334"
      ]
     },
     "execution_count": 17,
     "metadata": {},
     "output_type": "execute_result"
    }
   ],
   "source": [
    "predictor.intercept_"
   ]
  },
  {
   "cell_type": "code",
   "execution_count": 26,
   "metadata": {},
   "outputs": [
    {
     "data": {
      "text/plain": [
       "Text(0,0.5,'Players')"
      ]
     },
     "execution_count": 26,
     "metadata": {},
     "output_type": "execute_result"
    },
    {
     "data": {
      "image/png": "[encoded data removed]",
      "text/plain": [
       "<matplotlib.figure.Figure at 0x1a1ca329e48>"
      ]
     },
     "metadata": {},
     "output_type": "display_data"
    }
   ],
   "source": [
    "plt.scatter(X['day'].values,X['users_n_utd'].values)\n",
    "plt.xlabel('Days')\n",
    "plt.ylabel('Players')"
   ]
  },
  {
   "cell_type": "code",
   "execution_count": 27,
   "metadata": {},
   "outputs": [
    {
     "name": "stdout",
     "output_type": "stream",
     "text": [
      "[5.35053276 1.54168625]\n"
     ]
    }
   ],
   "source": [
    "X_u = X['day'].values \n",
    "Y_u = X['users_n_utd'].values\n",
    "\n",
    "coefs, cov = optimize.curve_fit(lambda t,a,b: a+b*np.log(t),  X_u,  Y_u)\n",
    "\n",
    "print (coefs)"
   ]
  },
  {
   "cell_type": "code",
   "execution_count": 28,
   "metadata": {},
   "outputs": [
    {
     "data": {
      "text/plain": [
       "Text(0,0.5,'Игроки')"
      ]
     },
     "execution_count": 28,
     "metadata": {},
     "output_type": "execute_result"
    },
    {
     "data": {
      "image/png": "[encoded data removed]",
      "text/plain": [
       "<matplotlib.figure.Figure at 0x1a1ca427550>"
      ]
     },
     "metadata": {},
     "output_type": "display_data"
    }
   ],
   "source": [
    "plt.scatter(X['day'].values,X['users_n_utd'].values)\n",
    "plt.ylabel(u'Игроки')"
   ]
  },
  {
   "cell_type": "code",
   "execution_count": 29,
   "metadata": {},
   "outputs": [
    {
     "name": "stdout",
     "output_type": "stream",
     "text": [
      "12\n",
      "13\n"
     ]
    }
   ],
   "source": [
    "def players_func(param):\n",
    "    result = []\n",
    "    result = coefs[0] + coefs[1]*np.log(param)\n",
    "    return result\n",
    "    \n",
    "\n",
    "users_90_180 = players_func([90., 180.])\n",
    "u90 = int(round(users_90_180[0],0))\n",
    "u180 = int(round(users_90_180[1],0))\n",
    "\n",
    "print (u90)\n",
    "print (u180)"
   ]
  },
  {
   "cell_type": "code",
   "execution_count": 30,
   "metadata": {},
   "outputs": [
    {
     "data": {
      "text/plain": [
       "<matplotlib.legend.Legend at 0x1a1ca5036d8>"
      ]
     },
     "execution_count": 30,
     "metadata": {},
     "output_type": "execute_result"
    },
    {
     "data": {
      "image/png": "[encoded data removed]",
      "text/plain": [
       "<matplotlib.figure.Figure at 0x1a1ca4bc940>"
      ]
     },
     "metadata": {},
     "output_type": "display_data"
    }
   ],
   "source": [
    "plt.scatter(X['day'].values,X['users_n_utd'].values)\n",
    "plt.plot(X['day'].values,players_func(X['day'].values.reshape(-1, 1)))\n",
    "plt.xlabel('Days')\n",
    "plt.ylabel('Players')\n",
    "plt.legend(['Players forcast', 'Players'])"
   ]
  },
  {
   "cell_type": "code",
   "execution_count": 31,
   "metadata": {},
   "outputs": [],
   "source": [
    "X_90_180 = pd.DataFrame([[90, u90],[180, u180]], columns = ['day', 'users_n_utd'])"
   ]
  },
  {
   "cell_type": "code",
   "execution_count": 32,
   "metadata": {},
   "outputs": [],
   "source": [
    "y_90_180 = predictor.predict(X_90_180)\n",
    "LTV_90 = round(y_90_180[0],2)\n",
    "LTV_180 = round(y_90_180[1],2)"
   ]
  },
  {
   "cell_type": "code",
   "execution_count": 33,
   "metadata": {},
   "outputs": [
    {
     "name": "stdout",
     "output_type": "stream",
     "text": [
      "LTV90: 4.66\n",
      "LTV180: 8.46\n"
     ]
    }
   ],
   "source": [
    "print (\"LTV90: \" + str(LTV_90))\n",
    "print (\"LTV180: \" + str(LTV_180))"
   ]
  },
  {
   "cell_type": "code",
   "execution_count": 34,
   "metadata": {},
   "outputs": [
    {
     "name": "stdout",
     "output_type": "stream",
     "text": [
      "K1: 8.55\n",
      "K3: 1.71\n",
      "K7: 1.22\n",
      "K30: 0.43\n",
      "K180: 0.08\n"
     ]
    }
   ],
   "source": [
    "k_days = [1, 3, 7, 30]\n",
    "K180 = round(LTV_180/(LTV_180 * u180), 2)\n",
    "ks= []\n",
    "rev = []\n",
    "for k in k_days:\n",
    "    day_ltv = ltv_data['ltv'].loc[ltv_data['day'] == k].values[0]\n",
    "    day_u = ltv_data['users_n_utd'].loc[ltv_data['day'] == k].values[0]\n",
    "    K_revenue = (day_ltv*day_u)\n",
    "    coeff = LTV_180/K_revenue\n",
    "    ks.append(coeff)\n",
    "    rev.append(day_u)\n",
    "    print (\"K\" + str(k) + \": \" + str(round(coeff, 2)))\n",
    "\n",
    "print (\"K180: \" + str(K180)) \n"
   ]
  },
  {
   "cell_type": "code",
   "execution_count": 35,
   "metadata": {},
   "outputs": [
    {
     "data": {
      "text/plain": [
       "[<matplotlib.lines.Line2D at 0x1a1ca574080>]"
      ]
     },
     "execution_count": 35,
     "metadata": {},
     "output_type": "execute_result"
    },
    {
     "data": {
      "image/png": "[encoded data removed]",
      "text/plain": [
       "<matplotlib.figure.Figure at 0x1a1ca51f550>"
      ]
     },
     "metadata": {},
     "output_type": "display_data"
    }
   ],
   "source": [
    "plt.plot(k_days, ks)"
   ]
  }
 ],
 "metadata": {
  "kernelspec": {
   "display_name": "Python 3",
   "language": "python",
   "name": "python3"
  },
  "language_info": {
   "codemirror_mode": {
    "name": "ipython",
    "version": 3
   },
   "file_extension": ".py",
   "mimetype": "text/x-python",
   "name": "python",
   "nbconvert_exporter": "python",
   "pygments_lexer": "ipython3",
   "version": "3.6.4"
  }
 },
 "nbformat": 4,
 "nbformat_minor": 2
}
