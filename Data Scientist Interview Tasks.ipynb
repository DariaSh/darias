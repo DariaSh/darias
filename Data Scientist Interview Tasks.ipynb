{
 "cells": [
  {
   "cell_type": "markdown",
   "metadata": {},
   "source": [
    "### This is just few algorithmization tasks from the Data Scientist Interview. Maybe it will be handy for someone."
   ]
  },
  {
   "cell_type": "markdown",
   "metadata": {},
   "source": [
    "1. So, the first task is: \"Write a function that takes in two sorted lists and outputs a sorted list that is their union.\""
   ]
  },
  {
   "cell_type": "markdown",
   "metadata": {},
   "source": [
    "Here, the \"union\" I interpret as we do not include any duplicates of the lists' values in case lists contain some.\n",
    "\n",
    "First let's generate two sorted lists of 20 and 20 random values."
   ]
  },
  {
   "cell_type": "code",
   "execution_count": 27,
   "metadata": {},
   "outputs": [
    {
     "name": "stdout",
     "output_type": "stream",
     "text": [
      "[1, 2, 6, 9, 15, 20, 25, 37, 42, 48, 53, 56, 58, 61, 63, 70, 80, 81, 86, 93]\n",
      "[8, 15, 28, 36, 40, 43, 44, 47, 49, 50, 56, 60, 62, 64, 65, 70, 84, 87, 92, 99]\n"
     ]
    }
   ],
   "source": [
    "import random\n",
    "a_test = sorted(random.sample(range(0, 100), 20))\n",
    "print (a_test)\n",
    "b_test = sorted(random.sample(range(0, 100), 20))\n",
    "print (b_test)"
   ]
  },
  {
   "cell_type": "markdown",
   "metadata": {},
   "source": [
    "Of course, we can join those two lists using extend() and set() and sorted() functions, but that's not the purpose of this interview task. Here we need to demonstrate that we can implement a sorting algorithm, so let's do so."
   ]
  },
  {
   "cell_type": "markdown",
   "metadata": {},
   "source": [
    "Fist, we define a SortUnion function, which simply takes two our lists as the arguments and also we will retun a list called **result**."
   ]
  },
  {
   "cell_type": "code",
   "execution_count": 60,
   "metadata": {},
   "outputs": [],
   "source": [
    "def SortUnion(a, b):\n",
    "    l1 = len(a)\n",
    "    l2 = len(b)\n",
    "    result = []\n",
    "    i = 0\n",
    "    j = 0\n",
    "    \n",
    "    for l in range(l1+l2):\n",
    "        if i == l1:\n",
    "            result.extend(b[j:])\n",
    "            break\n",
    "        elif j == l2:\n",
    "            result.extend(a[i:])\n",
    "            break\n",
    "        elif a[i] < b[j]:\n",
    "            result.append(a[i])\n",
    "            i += 1\n",
    "        elif a[i] == b[j]:\n",
    "            result.append(b[j])\n",
    "            j += 1\n",
    "            i += 1\n",
    "        else:\n",
    "            result.append(b[j])\n",
    "            j += 1\n",
    "    return result\n",
    "        "
   ]
  },
  {
   "cell_type": "code",
   "execution_count": 61,
   "metadata": {},
   "outputs": [
    {
     "name": "stdout",
     "output_type": "stream",
     "text": [
      "[1, 2, 6, 8, 9, 15, 20, 25, 28, 36, 37, 40, 42, 43, 44, 47, 48, 49, 50, 53, 56, 58, 60, 61, 62, 63, 64, 65, 70, 80, 81, 84, 86, 87, 92, 93, 99]\n"
     ]
    }
   ],
   "source": [
    "su = SortUnion(a_test, b_test)\n",
    "print (su)"
   ]
  },
  {
   "cell_type": "markdown",
   "metadata": {},
   "source": [
    "Just to show it's the same thing we can achieve with already predefined functions."
   ]
  },
  {
   "cell_type": "code",
   "execution_count": 68,
   "metadata": {},
   "outputs": [
    {
     "name": "stdout",
     "output_type": "stream",
     "text": [
      "[1, 2, 6, 8, 9, 15, 20, 25, 28, 36, 37, 40, 42, 43, 44, 47, 48, 49, 50, 53, 56, 58, 60, 61, 62, 63, 64, 65, 70, 80, 81, 84, 86, 87, 92, 93, 99]\n"
     ]
    }
   ],
   "source": [
    "a_test.extend(b_test)\n",
    "su = list(set(sorted(a_test)))\n",
    "print (su)"
   ]
  }
 ],
 "metadata": {
  "kernelspec": {
   "display_name": "Python 3",
   "language": "python",
   "name": "python3"
  },
  "language_info": {
   "codemirror_mode": {
    "name": "ipython",
    "version": 3
   },
   "file_extension": ".py",
   "mimetype": "text/x-python",
   "name": "python",
   "nbconvert_exporter": "python",
   "pygments_lexer": "ipython3",
   "version": "3.6.4"
  }
 },
 "nbformat": 4,
 "nbformat_minor": 2
}
