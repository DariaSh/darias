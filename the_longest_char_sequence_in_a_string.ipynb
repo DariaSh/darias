{
 "cells": [
  {
   "cell_type": "markdown",
   "metadata": {},
   "source": [
    "Just a simple piece of code for to keep improving my algirithmization skills.\n",
    "\n",
    "We have a letters sequene as a string, need to return the longest sequence of sequentially repeated characters in the string. and here we go!"
   ]
  },
  {
   "cell_type": "markdown",
   "metadata": {},
   "source": [
    "Well, if you want to demonstrate something let's say like a knowledge of the data structures in Python you can simply do it this way:"
   ]
  },
  {
   "cell_type": "code",
   "execution_count": 59,
   "metadata": {},
   "outputs": [
    {
     "name": "stdout",
     "output_type": "stream",
     "text": [
      "xxxxxxxxxxxxxx\n"
     ]
    }
   ],
   "source": [
    "string = 'abbbccdddddeehhhffxxxxxxxxxxxxxxzz'\n",
    "\n",
    "sequences = {}\n",
    "for char in string:\n",
    "    if char in sequences.keys():\n",
    "        sequences[char] += char\n",
    "    else:\n",
    "        sequences[char] = char\n",
    "longest_sequence = ''\n",
    "for key in sequences.keys():\n",
    "    if len(sequences[key]) > len(longest_sequence):\n",
    "        longest_sequence = sequences[key]\n",
    "print (longest_sequence)\n"
   ]
  },
  {
   "cell_type": "markdown",
   "metadata": {},
   "source": [
    "This code above solves the problem, but it's probably not the optimal one as you can see 1 - we need to occupy memory for the dictionary, we need to run two cycles and thus it obviously takes longer if we imagine the sequence is large.\n",
    "let's see what can be the alternative here. Also in addition to all mentioned above it wors properly if we have only ONE sequence of the same character, othrwise the code will return a wrong result."
   ]
  },
  {
   "cell_type": "code",
   "execution_count": 60,
   "metadata": {},
   "outputs": [
    {
     "name": "stdout",
     "output_type": "stream",
     "text": [
      "dddddddd\n"
     ]
    }
   ],
   "source": [
    "string = 'abbbccddddddddeehhhfffzzzzzzzzdddvyy'\n",
    "\n",
    "longest_sequence = ''\n",
    "for i in range(len(string)):\n",
    "    is_sequence = True\n",
    "    ch_sequence = ''\n",
    "    while is_sequence:\n",
    "        ch_sequence += string[i]\n",
    "        if i+1 < len(string) and string[i]==string[i+1]:\n",
    "            i += 1\n",
    "        else:\n",
    "            is_sequence = False\n",
    "    if len(ch_sequence) > len(longest_sequence):\n",
    "        longest_sequence = ch_sequence\n",
    "print (longest_sequence) "
   ]
  },
  {
   "cell_type": "markdown",
   "metadata": {},
   "source": [
    "Well, the socond solution obviously has several advantages: 1 - assume it works faster as we go through the list only once, and 2 - it's more universal as it will always identify the longest sequence well, when the solution with the dictionary will work properl ONLY if we have one sequence of the same character in the string - once we get a secong e.g. shorter sequence of the same character it will get appended to our character sequence with the corresponding key and thus will spoinl the result. In the second method a minor issue is that we will only return the FIRST longest sequence identified...if there is another sequence of the same length we will never get it out."
   ]
  }
 ],
 "metadata": {
  "kernelspec": {
   "display_name": "Python 3",
   "language": "python",
   "name": "python3"
  },
  "language_info": {
   "codemirror_mode": {
    "name": "ipython",
    "version": 3
   },
   "file_extension": ".py",
   "mimetype": "text/x-python",
   "name": "python",
   "nbconvert_exporter": "python",
   "pygments_lexer": "ipython3",
   "version": "3.6.4"
  }
 },
 "nbformat": 4,
 "nbformat_minor": 2
}
